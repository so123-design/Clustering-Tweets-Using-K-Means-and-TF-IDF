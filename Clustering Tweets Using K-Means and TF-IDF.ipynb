{
 "cells": [
  {
   "cell_type": "markdown",
   "id": "df264aa3",
   "metadata": {},
   "source": [
    "\n",
    "---\n",
    "\n",
    "# Clustering Tweets Using K-Means and TF-IDF\n",
    "\n",
    "---\n",
    "\n",
    "### **Introduction**\n",
    "This project employs text clustering techniques to group synthetic tweets into meaningful clusters. By leveraging natural language processing (NLP) and machine learning, it demonstrates how to preprocess raw text, extract meaningful features, and apply K-Means clustering to uncover patterns within textual data.\n",
    "\n",
    "---\n",
    "\n",
    "### **Purpose and Objectives**\n",
    "The primary goals of this project are:\n",
    "1. To preprocess and clean textual data for machine learning applications.\n",
    "2. To apply K-Means clustering to group similar tweets based on content.\n",
    "3. To visualize and interpret the clusters using PCA.\n",
    "4. To identify the most representative terms for each cluster.\n",
    "5. To predict the cluster membership of new, unseen tweets.\n",
    "\n",
    "---\n",
    "\n",
    "### **Key Components and Explanation**\n",
    "\n",
    "#### **1. Dataset**\n",
    "- **Source:** Synthetic tweets dataset.\n",
    "- **Features Used:** \n",
    "  - `tweets`: Raw textual data containing synthetic tweets.\n",
    "\n",
    "---\n",
    "\n",
    "### **2. Data Preprocessing**\n",
    "Effective preprocessing is key to clustering text data. The following steps were performed:\n",
    "\n",
    "##### **Preprocessing Steps**\n",
    "1. **Lowercasing:** Standardizes text for consistency.\n",
    "2. **Emoji Replacement:** Replaces emojis with a placeholder (\"EMOJI\") for uniformity.\n",
    "3. **Text Cleaning:**\n",
    "   - Removes hashtags, mentions, and URLs.\n",
    "   - Eliminates punctuation and non-alphanumeric characters.\n",
    "   - Reduces consecutive repeated letters (e.g., \"cooool\" → \"cool\").\n",
    "4. **Tokenization:** Splits text into individual words.\n",
    "5. **Stopword Removal:** Removes commonly used words (e.g., \"the\", \"is\") that don’t add semantic value.\n",
    "6. **Lemmatization:** Reduces words to their base forms (e.g., \"running\" → \"run\").\n",
    "\n",
    "---\n",
    "\n",
    "### **3. Feature Extraction**\n",
    "- **TF-IDF Vectorization:** Converts the cleaned and lemmatized tweets into numerical feature vectors. \n",
    "  - Captures the importance of terms across all tweets.\n",
    "  - Ensures high-dimensional sparse representation suitable for clustering.\n",
    "\n",
    "---\n",
    "\n",
    "### **4. Clustering with K-Means**\n",
    "- **Optimal Number of Clusters:** Determined using the **Elbow Method**:\n",
    "  - Plots the inertia (sum of squared distances of samples to their closest cluster center) against the number of clusters.\n",
    "  - Optimal clusters are chosen at the \"elbow point\" where the rate of decrease in inertia slows down.\n",
    "- **K-Means Algorithm:** Groups tweets into \\( k = 3 \\) clusters based on content similarity.\n",
    "\n",
    "---\n",
    "\n",
    "### **5. Dimensionality Reduction**\n",
    "- **PCA (Principal Component Analysis):** Reduces the high-dimensional TF-IDF vectors to two components for visualization.\n",
    "- **Visualization:** Clusters are plotted in a 2D space to visually inspect the separation between clusters.\n",
    "\n",
    "---\n",
    "\n",
    "### **6. Top Terms in Each Cluster**\n",
    "- Extracts the top \\( n \\) terms from each cluster's centroid to interpret the topics represented by the clusters.\n",
    "\n",
    "---\n",
    "\n",
    "### **7. Predictions for New Data**\n",
    "- New tweets are preprocessed using the same pipeline.\n",
    "- TF-IDF transformation and K-Means prediction are applied to determine cluster membership.\n",
    "\n",
    "---\n",
    "\n",
    "### **Sample Output**\n",
    "\n",
    "#### **Optimal Number of Clusters (Elbow Method)**\n",
    "A plot showing the \"elbow point\" suggests \\( k = 3 \\) as the optimal number of clusters.\n",
    "\n",
    "#### **Cluster Visualization**\n",
    "A scatterplot of the PCA-reduced features, color-coded by cluster labels, shows distinct groupings of tweets.\n",
    "\n",
    "#### **Top Terms in Each Cluster**\n",
    "```\n",
    "Cluster 0: ai, data, future, learning, technology\n",
    "Cluster 1: game, team, win, sport, player\n",
    "Cluster 2: graphic, design, model, rendering, image\n",
    "```\n",
    "\n",
    "#### **Predictions for New Tweets**\n",
    "```\n",
    "Input: [\"AI is changing everything! 🚀 #future\", \"Join our webinar on AI advancements.\"]\n",
    "Predictions: [Cluster 0, Cluster 0]\n",
    "```\n",
    "\n",
    "---\n",
    "\n",
    "\n",
    "---\n",
    "\n",
    "### **Applications**\n",
    "This clustering approach has practical applications such as:\n",
    "- **Market Research:** Grouping customer reviews by sentiment or topics.\n",
    "- **Social Media Analysis:** Identifying trending topics or user intent in tweets.\n",
    "- **Content Recommendation:** Suggesting similar posts or products based on clustered content.\n",
    "- **Event Monitoring:** Grouping live tweets into events or themes for quick insights.\n",
    "\n",
    "---\n",
    "\n",
    "### **Code Implementation**\n",
    "\n"
   ]
  },
  {
   "cell_type": "code",
   "execution_count": 5,
   "id": "0ae86989",
   "metadata": {},
   "outputs": [],
   "source": [
    "import re\n",
    "import string\n",
    "import emoji\n",
    "import pandas as pd\n",
    "import numpy as np\n",
    "import matplotlib.pyplot as plt\n",
    "from sklearn.feature_extraction.text import TfidfVectorizer\n",
    "from sklearn.cluster import KMeans\n",
    "from sklearn.decomposition import PCA\n",
    "from sklearn.metrics import silhouette_score\n",
    "from nltk.corpus import stopwords\n",
    "from nltk.tokenize import word_tokenize\n",
    "from nltk.stem import WordNetLemmatizer\n",
    "from nltk import download"
   ]
  },
  {
   "cell_type": "code",
   "execution_count": 4,
   "id": "1d61b17f",
   "metadata": {},
   "outputs": [
    {
     "name": "stdout",
     "output_type": "stream",
     "text": [
      "Collecting emoji\n",
      "  Downloading emoji-2.14.0-py3-none-any.whl (586 kB)\n",
      "     ------------------------------------ 586.9/586.9 kB 159.8 kB/s eta 0:00:00\n",
      "Installing collected packages: emoji\n",
      "Successfully installed emoji-2.14.0\n",
      "Note: you may need to restart the kernel to use updated packages.\n"
     ]
    },
    {
     "name": "stderr",
     "output_type": "stream",
     "text": [
      "WARNING: Ignoring invalid distribution -illow (c:\\users\\admin\\sam\\lib\\site-packages)\n",
      "WARNING: Ignoring invalid distribution -ensorflow-intel (c:\\users\\admin\\sam\\lib\\site-packages)\n",
      "WARNING: Ignoring invalid distribution -illow (c:\\users\\admin\\sam\\lib\\site-packages)\n",
      "WARNING: Ignoring invalid distribution -ensorflow-intel (c:\\users\\admin\\sam\\lib\\site-packages)\n",
      "WARNING: Ignoring invalid distribution -illow (c:\\users\\admin\\sam\\lib\\site-packages)\n",
      "WARNING: Ignoring invalid distribution -ensorflow-intel (c:\\users\\admin\\sam\\lib\\site-packages)\n",
      "WARNING: Ignoring invalid distribution -illow (c:\\users\\admin\\sam\\lib\\site-packages)\n",
      "WARNING: Ignoring invalid distribution -ensorflow-intel (c:\\users\\admin\\sam\\lib\\site-packages)\n",
      "WARNING: Ignoring invalid distribution -illow (c:\\users\\admin\\sam\\lib\\site-packages)\n",
      "WARNING: Ignoring invalid distribution -ensorflow-intel (c:\\users\\admin\\sam\\lib\\site-packages)\n",
      "WARNING: Ignoring invalid distribution -illow (c:\\users\\admin\\sam\\lib\\site-packages)\n",
      "WARNING: Ignoring invalid distribution -ensorflow-intel (c:\\users\\admin\\sam\\lib\\site-packages)\n",
      "WARNING: Ignoring invalid distribution -illow (c:\\users\\admin\\sam\\lib\\site-packages)\n",
      "WARNING: Ignoring invalid distribution -ensorflow-intel (c:\\users\\admin\\sam\\lib\\site-packages)\n"
     ]
    }
   ],
   "source": [
    "pip install emoji"
   ]
  },
  {
   "cell_type": "code",
   "execution_count": 6,
   "id": "3facfa38",
   "metadata": {},
   "outputs": [
    {
     "name": "stderr",
     "output_type": "stream",
     "text": [
      "[nltk_data] Downloading package stopwords to\n",
      "[nltk_data]     C:\\Users\\Admin\\AppData\\Roaming\\nltk_data...\n",
      "[nltk_data]   Package stopwords is already up-to-date!\n",
      "[nltk_data] Downloading package punkt to\n",
      "[nltk_data]     C:\\Users\\Admin\\AppData\\Roaming\\nltk_data...\n",
      "[nltk_data]   Package punkt is already up-to-date!\n",
      "[nltk_data] Downloading package wordnet to\n",
      "[nltk_data]     C:\\Users\\Admin\\AppData\\Roaming\\nltk_data...\n"
     ]
    },
    {
     "data": {
      "text/plain": [
       "True"
      ]
     },
     "execution_count": 6,
     "metadata": {},
     "output_type": "execute_result"
    }
   ],
   "source": [
    "# Ensure required NLTK data is downloaded\n",
    "download('stopwords')\n",
    "download('punkt')\n",
    "download('wordnet')\n"
   ]
  },
  {
   "cell_type": "code",
   "execution_count": 14,
   "id": "22dfc00b",
   "metadata": {},
   "outputs": [
    {
     "name": "stderr",
     "output_type": "stream",
     "text": [
      "[nltk_data] Downloading package omw-1.4 to\n",
      "[nltk_data]     C:\\Users\\Admin\\AppData\\Roaming\\nltk_data...\n"
     ]
    },
    {
     "data": {
      "text/plain": [
       "True"
      ]
     },
     "execution_count": 14,
     "metadata": {},
     "output_type": "execute_result"
    }
   ],
   "source": [
    "download('omw-1.4')"
   ]
  },
  {
   "cell_type": "code",
   "execution_count": 10,
   "id": "9047f55d",
   "metadata": {},
   "outputs": [],
   "source": [
    "df = pd.read_csv(\"synthetic_tweets.csv\")\n"
   ]
  },
  {
   "cell_type": "code",
   "execution_count": 11,
   "id": "348bfe6c",
   "metadata": {},
   "outputs": [
    {
     "data": {
      "text/html": [
       "<div>\n",
       "<style scoped>\n",
       "    .dataframe tbody tr th:only-of-type {\n",
       "        vertical-align: middle;\n",
       "    }\n",
       "\n",
       "    .dataframe tbody tr th {\n",
       "        vertical-align: top;\n",
       "    }\n",
       "\n",
       "    .dataframe thead th {\n",
       "        text-align: right;\n",
       "    }\n",
       "</style>\n",
       "<table border=\"1\" class=\"dataframe\">\n",
       "  <thead>\n",
       "    <tr style=\"text-align: right;\">\n",
       "      <th></th>\n",
       "      <th>tweets</th>\n",
       "    </tr>\n",
       "  </thead>\n",
       "  <tbody>\n",
       "    <tr>\n",
       "      <th>0</th>\n",
       "      <td>Big data and AI are transforming industries. 🎉...</td>\n",
       "    </tr>\n",
       "    <tr>\n",
       "      <th>1</th>\n",
       "      <td>Coding is the language of the future. 💻 #Tech ...</td>\n",
       "    </tr>\n",
       "    <tr>\n",
       "      <th>2</th>\n",
       "      <td>Big data and AI are transforming industries. 💻...</td>\n",
       "    </tr>\n",
       "    <tr>\n",
       "      <th>3</th>\n",
       "      <td>AI is the future! 🤖 #DataScience @DataLover ht...</td>\n",
       "    </tr>\n",
       "    <tr>\n",
       "      <th>4</th>\n",
       "      <td>Just read an amazing article on machine learni...</td>\n",
       "    </tr>\n",
       "  </tbody>\n",
       "</table>\n",
       "</div>"
      ],
      "text/plain": [
       "                                              tweets\n",
       "0  Big data and AI are transforming industries. 🎉...\n",
       "1  Coding is the language of the future. 💻 #Tech ...\n",
       "2  Big data and AI are transforming industries. 💻...\n",
       "3  AI is the future! 🤖 #DataScience @DataLover ht...\n",
       "4  Just read an amazing article on machine learni..."
      ]
     },
     "execution_count": 11,
     "metadata": {},
     "output_type": "execute_result"
    }
   ],
   "source": [
    "df.head()"
   ]
  },
  {
   "cell_type": "code",
   "execution_count": 12,
   "id": "fbc9bb2a",
   "metadata": {},
   "outputs": [],
   "source": [
    "# Preprocessing functions\n",
    "def preprocess_tweet(tweet):\n",
    "    # Convert to lowercase\n",
    "    tweet = tweet.lower()\n",
    "    \n",
    "    # Replace emojis with a placeholder\n",
    "    tweet = emoji.replace_emoji(tweet, replace=\" EMOJI \")\n",
    "    \n",
    "    # Remove consecutive letters\n",
    "    tweet = re.sub(r'(\\w)\\1{2,}', r'\\1', tweet)\n",
    "    \n",
    "    # Remove hashtags\n",
    "    tweet = re.sub(r'#\\w+', '', tweet)\n",
    "    \n",
    "    # Remove mentions\n",
    "    tweet = re.sub(r'@\\w+', '', tweet)\n",
    "    \n",
    "    # Remove links\n",
    "    tweet = re.sub(r'http\\S+|www\\.\\S+', '', tweet)\n",
    "    \n",
    "    # Remove punctuation and non-alphanumeric characters\n",
    "    tweet = re.sub(r'[^a-zA-Z0-9\\s]', '', tweet)\n",
    "    \n",
    "    return tweet\n",
    "\n",
    "def tokenize_and_remove_stopwords(text):\n",
    "    stop_words = set(stopwords.words('english'))\n",
    "    words = word_tokenize(text)\n",
    "    return [word for word in words if word not in stop_words]\n",
    "\n",
    "lemmatizer = WordNetLemmatizer()\n",
    "def lemmatize_words(words):\n",
    "    return [lemmatizer.lemmatize(word) for word in words]\n"
   ]
  },
  {
   "cell_type": "code",
   "execution_count": 15,
   "id": "f35ba92b",
   "metadata": {},
   "outputs": [],
   "source": [
    "# Apply preprocessing\n",
    "df['cleaned_tweets'] = df['tweets'].apply(preprocess_tweet)\n",
    "df['tokens'] = df['cleaned_tweets'].apply(tokenize_and_remove_stopwords)\n",
    "df['lemmatized'] = df['tokens'].apply(lemmatize_words)\n",
    "df['final_text'] = df['lemmatized'].apply(lambda x: ' '.join(x))"
   ]
  },
  {
   "cell_type": "code",
   "execution_count": 16,
   "id": "babb2856",
   "metadata": {},
   "outputs": [],
   "source": [
    "# Vectorize tweets using TF-IDF\n",
    "vectorizer = TfidfVectorizer()\n",
    "X = vectorizer.fit_transform(df['final_text'])"
   ]
  },
  {
   "cell_type": "code",
   "execution_count": 17,
   "id": "5eec7ecc",
   "metadata": {},
   "outputs": [
    {
     "data": {
      "image/png": "[encoded data removed]",
      "text/plain": [
       "<Figure size 800x500 with 1 Axes>"
      ]
     },
     "metadata": {},
     "output_type": "display_data"
    }
   ],
   "source": [
    "# Determine the optimal number of clusters using the Elbow Method\n",
    "inertia = []\n",
    "range_clusters = range(1, 10)\n",
    "for k in range_clusters:\n",
    "    kmeans = KMeans(n_clusters=k, random_state=42)\n",
    "    kmeans.fit(X)\n",
    "    inertia.append(kmeans.inertia_)\n",
    "\n",
    "plt.figure(figsize=(8, 5))\n",
    "plt.plot(range_clusters, inertia, marker='o')\n",
    "plt.title('Elbow Method For Optimal K')\n",
    "plt.xlabel('Number of Clusters')\n",
    "plt.ylabel('Inertia')\n",
    "plt.show()"
   ]
  },
  {
   "cell_type": "code",
   "execution_count": 18,
   "id": "a724b118",
   "metadata": {},
   "outputs": [],
   "source": [
    "# Fit the KMeans model with the optimal number of clusters (e.g., k=3 based on Elbow)\n",
    "optimal_k = 3\n",
    "kmeans = KMeans(n_clusters=optimal_k, random_state=42)\n",
    "labels = kmeans.fit_predict(X)\n",
    "\n",
    "df['cluster'] = labels"
   ]
  },
  {
   "cell_type": "code",
   "execution_count": 19,
   "id": "67ce98a2",
   "metadata": {},
   "outputs": [],
   "source": [
    "# Reduce dimensions for visualization using PCA\n",
    "pca = PCA(n_components=2)\n",
    "reduced_X = pca.fit_transform(X.toarray())\n",
    "\n"
   ]
  },
  {
   "cell_type": "code",
   "execution_count": 20,
   "id": "949b3897",
   "metadata": {},
   "outputs": [
    {
     "data": {
      "image/png": "[encoded data removed]",
      "text/plain": [
       "<Figure size 800x600 with 1 Axes>"
      ]
     },
     "metadata": {},
     "output_type": "display_data"
    }
   ],
   "source": [
    "# Visualizing the clusters\n",
    "plt.figure(figsize=(8, 6))\n",
    "for cluster in range(optimal_k):\n",
    "    cluster_points = reduced_X[labels == cluster]\n",
    "    plt.scatter(cluster_points[:, 0], cluster_points[:, 1], label=f'Cluster {cluster}')\n",
    "plt.title('Tweet Clusters')\n",
    "plt.xlabel('PCA Component 1')\n",
    "plt.ylabel('PCA Component 2')\n",
    "plt.legend()\n",
    "plt.show()"
   ]
  },
  {
   "cell_type": "code",
   "execution_count": 21,
   "id": "9ba76797",
   "metadata": {},
   "outputs": [
    {
     "name": "stdout",
     "output_type": "stream",
     "text": [
      "Top terms per cluster:\n",
      "Cluster 0: science, exploring, today, technique, data\n",
      "Cluster 1: amazing, breakthrough, robotics, learning, article\n",
      "Cluster 2: ai, emoji, future, big, transforming\n"
     ]
    }
   ],
   "source": [
    "# Get top terms in each cluster\n",
    "def get_top_terms_per_cluster(vectorizer, kmeans, n_terms=5):\n",
    "    terms = vectorizer.get_feature_names_out()\n",
    "    clusters_top_terms = {}\n",
    "    for i in range(kmeans.n_clusters):\n",
    "        cluster_center = kmeans.cluster_centers_[i]\n",
    "        top_indices = cluster_center.argsort()[-n_terms:][::-1]\n",
    "        clusters_top_terms[i] = [terms[index] for index in top_indices]\n",
    "    return clusters_top_terms\n",
    "\n",
    "top_terms = get_top_terms_per_cluster(vectorizer, kmeans)\n",
    "print(\"Top terms per cluster:\")\n",
    "for cluster, terms in top_terms.items():\n",
    "    print(f\"Cluster {cluster}: {', '.join(terms)}\")\n",
    "\n",
    "# Predict new data\n",
    "def predict_new_data(new_texts, vectorizer, kmeans):\n",
    "    preprocessed_texts = [preprocess_tweet(text) for text in new_texts]\n",
    "    tokenized_texts = [tokenize_and_remove_stopwords(text) for text in preprocessed_texts]\n",
    "    lemmatized_texts = [' '.join(lemmatize_words(tokens)) for tokens in tokenized_texts]\n",
    "    X_new = vectorizer.transform(lemmatized_texts)\n",
    "    return kmeans.predict(X_new)\n",
    "\n"
   ]
  },
  {
   "cell_type": "code",
   "execution_count": 22,
   "id": "52bd905b",
   "metadata": {},
   "outputs": [
    {
     "name": "stdout",
     "output_type": "stream",
     "text": [
      "Predictions for new tweets: [2 2]\n"
     ]
    }
   ],
   "source": [
    "# Example prediction\n",
    "new_tweets = [\"AI is changing everything! 🚀 #future\", \"Join our webinar on AI advancements.\"]\n",
    "predictions = predict_new_data(new_tweets, vectorizer, kmeans)\n",
    "print(\"Predictions for new tweets:\", predictions)"
   ]
  },
  {
   "cell_type": "markdown",
   "id": "2ec6204f",
   "metadata": {},
   "source": [
    "\n",
    "---\n",
    "\n",
    "### **Future Enhancements**\n",
    "1. **Dynamic Cluster Number:** Automate cluster selection using advanced techniques like silhouette analysis.\n",
    "2. **Improved Visualization:** Use t-SNE or UMAP for non-linear dimensionality reduction.\n",
    "3. **Scalability:** Test on larger datasets and implement distributed processing.\n",
    "4. **Interactive Dashboard:** Build a web interface for real-time tweet clustering and exploration.\n",
    "\n",
    "---\n",
    "\n",
    "### **Conclusion**\n",
    "This project demonstrates effective clustering of textual data using NLP and machine learning techniques. By preprocessing tweets, extracting meaningful features, and visualizing clusters, it highlights the potential of unsupervised learning in analyzing and interpreting text data. The ability to identify cluster topics and predict new tweet memberships adds practical value for real-world applications.\n",
    "\n",
    "---\n"
   ]
  }
 ],
 "metadata": {
  "kernelspec": {
   "display_name": "Python 3 (ipykernel)",
   "language": "python",
   "name": "python3"
  },
  "language_info": {
   "codemirror_mode": {
    "name": "ipython",
    "version": 3
   },
   "file_extension": ".py",
   "mimetype": "text/x-python",
   "name": "python",
   "nbconvert_exporter": "python",
   "pygments_lexer": "ipython3",
   "version": "3.10.9"
  }
 },
 "nbformat": 4,
 "nbformat_minor": 5
}
